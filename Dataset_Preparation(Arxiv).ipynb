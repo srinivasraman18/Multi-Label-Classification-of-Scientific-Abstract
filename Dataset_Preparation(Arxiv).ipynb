{
  "nbformat": 4,
  "nbformat_minor": 0,
  "metadata": {
    "colab": {
      "name": "Dataset Preparation(Arxiv).ipynb",
      "provenance": []
    },
    "kernelspec": {
      "name": "python3",
      "display_name": "Python 3"
    }
  },
  "cells": [
    {
      "cell_type": "code",
      "metadata": {
        "id": "8I7YxVvmtxDZ"
      },
      "source": [
        "!pip install -q kaggle"
      ],
      "execution_count": null,
      "outputs": []
    },
    {
      "cell_type": "code",
      "metadata": {
        "colab": {
          "base_uri": "https://localhost:8080/"
        },
        "id": "RkSlxAWD8W1k",
        "outputId": "f069e326-e8dd-4610-b890-a02b4d7193c0"
      },
      "source": [
        "from google.colab import drive\r\n",
        "drive.mount('/content/drive')"
      ],
      "execution_count": null,
      "outputs": [
        {
          "output_type": "stream",
          "text": [
            "Mounted at /content/drive\n"
          ],
          "name": "stdout"
        }
      ]
    },
    {
      "cell_type": "code",
      "metadata": {
        "id": "kV9yh_U2ek86"
      },
      "source": [
        "!mkdir -p ~/.kaggle"
      ],
      "execution_count": null,
      "outputs": []
    },
    {
      "cell_type": "code",
      "metadata": {
        "id": "SwqTcJi7eopR"
      },
      "source": [
        "!cp kaggle.json ~/.kaggle/"
      ],
      "execution_count": null,
      "outputs": []
    },
    {
      "cell_type": "code",
      "metadata": {
        "id": "32vPWx9oeXnH",
        "colab": {
          "base_uri": "https://localhost:8080/"
        },
        "outputId": "1d34e46b-c879-460d-a4ab-24ad889c6c66"
      },
      "source": [
        "!kaggle datasets list -s arxiv"
      ],
      "execution_count": null,
      "outputs": [
        {
          "output_type": "stream",
          "text": [
            "Warning: Your Kaggle API key is readable by other users on this system! To fix this, you can run 'chmod 600 /root/.kaggle/kaggle.json'\n",
            "Warning: Looks like you're using an outdated API Version, please consider updating (server 1.5.9 / client 1.5.4)\n",
            "ref                                                        title                                              size  lastUpdated          downloadCount  \n",
            "---------------------------------------------------------  ------------------------------------------------  -----  -------------------  -------------  \n",
            "Cornell-University/arxiv                                   arXiv Dataset                                     902MB  2020-11-08 00:52:17           4030  \n",
            "neelshah18/arxivdataset                                    ARXIV data from 24,000+ papers                     18MB  2018-03-31 03:47:25           1696  \n",
            "prasunroy/natural-images                                   Natural Images                                    342MB  2018-08-11 18:24:11          10490  \n",
            "rmisra/news-headlines-dataset-for-sarcasm-detection        News Headlines Dataset For Sarcasm Detection        3MB  2019-07-03 23:52:57          19379  \n",
            "tayorm/arxiv-papers-metadata                               Arxiv Papers Metadata Dataset                       4GB  2019-11-24 22:22:24            185  \n",
            "shujian/arxiv-nlp-papers-with-github-link                  Arxiv NLP papers with Github link                  45KB  2019-01-24 04:03:01            193  \n",
            "steliosdatascientist/covid19-arxiv-research-papers         COVID-19 : ArXiv Research Papers                   46KB  2020-05-29 10:04:21             15  \n",
            "shayanfazeli/heartbeat                                     ECG Heartbeat Categorization Dataset               99MB  2018-05-31 18:47:34          18158  \n",
            "camaskew/baseline-landmark-retrieval-model                 Baseline Landmark Retrieval Model                 166MB  2020-07-01 00:01:24            248  \n",
            "peterwittek/scirate-quant-ph                               SciRate quant-ph                                   11MB  2017-02-13 08:42:11            233  \n",
            "mksaad/arxiv-papers-2010-2020                              arXiv papers 2010 2020                             29MB  2020-08-09 05:19:06             24  \n",
            "mrisdal/open-exoplanet-catalogue                           Open Exoplanet Catalogue                          123KB  2017-06-08 19:59:22           2885  \n",
            "andrewmvd/isic-2019                                        Skin Lesion Images for Melanoma Classification      9GB  2020-05-28 05:11:34           1077  \n",
            "khoongweihao/covid19-xray-dataset-train-test-sets          COVID-19 Xray Dataset (Train & Test Sets)          84MB  2020-03-19 01:49:56           1940  \n",
            "yoctoman/shcxr-lung-mask                                   Lung Masks for Shenzhen Hospital Chest X-ray Set   20MB  2018-03-03 13:29:33           1995  \n",
            "BengaliAI/numta                                            NumtaDB: Bengali Handwritten Digits                 2GB  2018-08-14 03:08:59           1811  \n",
            "louise2001/quantum-physics-articles-on-arxiv-1994-to-2009  Quantum Physics articles on Arxiv 1994 to 2009     31MB  2020-06-02 13:34:34             61  \n",
            "mdepak/fakenewsnet                                         FakeNewsNet                                        17MB  2018-11-02 19:08:58           2056  \n",
            "ttahara/resnest50-fast-package                             Pytorch ResNeSt50-Fast                            692MB  2020-07-01 14:16:01            852  \n",
            "luisblanche/covidct                                        COVID-19 Lung CT Scans                             86MB  2020-04-09 12:08:48           1638  \n"
          ],
          "name": "stdout"
        }
      ]
    },
    {
      "cell_type": "code",
      "metadata": {
        "id": "9cCNEV9Per9E",
        "colab": {
          "base_uri": "https://localhost:8080/"
        },
        "outputId": "0ac7aa72-ada3-46ca-fb2d-d2f3b8b4a1d8"
      },
      "source": [
        "!kaggle datasets download Cornell-University/arxiv"
      ],
      "execution_count": null,
      "outputs": [
        {
          "output_type": "stream",
          "text": [
            "Warning: Your Kaggle API key is readable by other users on this system! To fix this, you can run 'chmod 600 /root/.kaggle/kaggle.json'\n",
            "Downloading arxiv.zip to /content\n",
            " 99% 897M/902M [00:36<00:00, 27.7MB/s]\n",
            "100% 902M/902M [00:36<00:00, 26.0MB/s]\n"
          ],
          "name": "stdout"
        }
      ]
    },
    {
      "cell_type": "code",
      "metadata": {
        "id": "qnp3HFO7fEUh",
        "colab": {
          "base_uri": "https://localhost:8080/"
        },
        "outputId": "f87ed972-be74-463e-9b51-4e98e27bc3c5"
      },
      "source": [
        "!unzip /content/arxiv.zip"
      ],
      "execution_count": null,
      "outputs": [
        {
          "output_type": "stream",
          "text": [
            "Archive:  /content/arxiv.zip\n",
            "  inflating: arxiv-metadata-oai-snapshot.json  \n"
          ],
          "name": "stdout"
        }
      ]
    },
    {
      "cell_type": "code",
      "metadata": {
        "id": "H95i1IU4gjSW",
        "colab": {
          "base_uri": "https://localhost:8080/"
        },
        "outputId": "cba824b9-afe1-45f8-809a-7e44a7785ebe"
      },
      "source": [
        "!python -m pip install dask[complete]"
      ],
      "execution_count": null,
      "outputs": [
        {
          "output_type": "stream",
          "text": [
            "Requirement already satisfied: dask[complete] in /usr/local/lib/python3.6/dist-packages (2.12.0)\n",
            "Requirement already satisfied: cloudpickle>=0.2.1; extra == \"complete\" in /usr/local/lib/python3.6/dist-packages (from dask[complete]) (1.3.0)\n",
            "Collecting fsspec>=0.6.0; extra == \"complete\"\n",
            "\u001b[?25l  Downloading https://files.pythonhosted.org/packages/a5/8b/1df260f860f17cb08698170153ef7db672c497c1840dcc8613ce26a8a005/fsspec-0.8.4-py3-none-any.whl (91kB)\n",
            "\u001b[K     |████████████████████████████████| 92kB 2.3MB/s \n",
            "\u001b[?25hRequirement already satisfied: pandas>=0.23.0; extra == \"complete\" in /usr/local/lib/python3.6/dist-packages (from dask[complete]) (1.1.4)\n",
            "Collecting partd>=0.3.10; extra == \"complete\"\n",
            "  Downloading https://files.pythonhosted.org/packages/44/e1/68dbe731c9c067655bff1eca5b7d40c20ca4b23fd5ec9f3d17e201a6f36b/partd-1.1.0-py3-none-any.whl\n",
            "Requirement already satisfied: bokeh>=1.0.0; extra == \"complete\" in /usr/local/lib/python3.6/dist-packages (from dask[complete]) (2.1.1)\n",
            "Requirement already satisfied: PyYaml; extra == \"complete\" in /usr/local/lib/python3.6/dist-packages (from dask[complete]) (3.13)\n",
            "Collecting distributed>=2.0; extra == \"complete\"\n",
            "\u001b[?25l  Downloading https://files.pythonhosted.org/packages/88/38/d9f0e31c15de18cb124d1ed33cf9c99c84f05f251ff6767e7573c217725b/distributed-2.30.1-py3-none-any.whl (656kB)\n",
            "\u001b[K     |████████████████████████████████| 665kB 8.2MB/s \n",
            "\u001b[?25hRequirement already satisfied: toolz>=0.7.3; extra == \"complete\" in /usr/local/lib/python3.6/dist-packages (from dask[complete]) (0.11.1)\n",
            "Requirement already satisfied: numpy>=1.13.0; extra == \"complete\" in /usr/local/lib/python3.6/dist-packages (from dask[complete]) (1.18.5)\n",
            "Requirement already satisfied: pytz>=2017.2 in /usr/local/lib/python3.6/dist-packages (from pandas>=0.23.0; extra == \"complete\"->dask[complete]) (2018.9)\n",
            "Requirement already satisfied: python-dateutil>=2.7.3 in /usr/local/lib/python3.6/dist-packages (from pandas>=0.23.0; extra == \"complete\"->dask[complete]) (2.8.1)\n",
            "Collecting locket\n",
            "  Downloading https://files.pythonhosted.org/packages/d0/22/3c0f97614e0be8386542facb3a7dcfc2584f7b83608c02333bced641281c/locket-0.2.0.tar.gz\n",
            "Requirement already satisfied: tornado>=5.1 in /usr/local/lib/python3.6/dist-packages (from bokeh>=1.0.0; extra == \"complete\"->dask[complete]) (5.1.1)\n",
            "Requirement already satisfied: packaging>=16.8 in /usr/local/lib/python3.6/dist-packages (from bokeh>=1.0.0; extra == \"complete\"->dask[complete]) (20.4)\n",
            "Requirement already satisfied: typing-extensions>=3.7.4 in /usr/local/lib/python3.6/dist-packages (from bokeh>=1.0.0; extra == \"complete\"->dask[complete]) (3.7.4.3)\n",
            "Requirement already satisfied: Jinja2>=2.7 in /usr/local/lib/python3.6/dist-packages (from bokeh>=1.0.0; extra == \"complete\"->dask[complete]) (2.11.2)\n",
            "Requirement already satisfied: pillow>=4.0 in /usr/local/lib/python3.6/dist-packages (from bokeh>=1.0.0; extra == \"complete\"->dask[complete]) (7.0.0)\n",
            "Requirement already satisfied: click>=6.6 in /usr/local/lib/python3.6/dist-packages (from distributed>=2.0; extra == \"complete\"->dask[complete]) (7.1.2)\n",
            "Requirement already satisfied: setuptools in /usr/local/lib/python3.6/dist-packages (from distributed>=2.0; extra == \"complete\"->dask[complete]) (50.3.2)\n",
            "Collecting contextvars; python_version < \"3.7\"\n",
            "  Downloading https://files.pythonhosted.org/packages/83/96/55b82d9f13763be9d672622e1b8106c85acb83edd7cc2fa5bc67cd9877e9/contextvars-2.4.tar.gz\n",
            "Requirement already satisfied: psutil>=5.0 in /usr/local/lib/python3.6/dist-packages (from distributed>=2.0; extra == \"complete\"->dask[complete]) (5.4.8)\n",
            "Requirement already satisfied: sortedcontainers!=2.0.0,!=2.0.1 in /usr/local/lib/python3.6/dist-packages (from distributed>=2.0; extra == \"complete\"->dask[complete]) (2.2.2)\n",
            "Requirement already satisfied: tblib>=1.6.0 in /usr/local/lib/python3.6/dist-packages (from distributed>=2.0; extra == \"complete\"->dask[complete]) (1.7.0)\n",
            "Requirement already satisfied: zict>=0.1.3 in /usr/local/lib/python3.6/dist-packages (from distributed>=2.0; extra == \"complete\"->dask[complete]) (2.0.0)\n",
            "Requirement already satisfied: msgpack>=0.6.0 in /usr/local/lib/python3.6/dist-packages (from distributed>=2.0; extra == \"complete\"->dask[complete]) (1.0.0)\n",
            "Requirement already satisfied: six>=1.5 in /usr/local/lib/python3.6/dist-packages (from python-dateutil>=2.7.3->pandas>=0.23.0; extra == \"complete\"->dask[complete]) (1.15.0)\n",
            "Requirement already satisfied: pyparsing>=2.0.2 in /usr/local/lib/python3.6/dist-packages (from packaging>=16.8->bokeh>=1.0.0; extra == \"complete\"->dask[complete]) (2.4.7)\n",
            "Requirement already satisfied: MarkupSafe>=0.23 in /usr/local/lib/python3.6/dist-packages (from Jinja2>=2.7->bokeh>=1.0.0; extra == \"complete\"->dask[complete]) (1.1.1)\n",
            "Collecting immutables>=0.9\n",
            "\u001b[?25l  Downloading https://files.pythonhosted.org/packages/99/e0/ea6fd4697120327d26773b5a84853f897a68e33d3f9376b00a8ff96e4f63/immutables-0.14-cp36-cp36m-manylinux1_x86_64.whl (98kB)\n",
            "\u001b[K     |████████████████████████████████| 102kB 7.2MB/s \n",
            "\u001b[?25hRequirement already satisfied: heapdict in /usr/local/lib/python3.6/dist-packages (from zict>=0.1.3->distributed>=2.0; extra == \"complete\"->dask[complete]) (1.0.1)\n",
            "Building wheels for collected packages: locket, contextvars\n",
            "  Building wheel for locket (setup.py) ... \u001b[?25l\u001b[?25hdone\n",
            "  Created wheel for locket: filename=locket-0.2.0-cp36-none-any.whl size=4040 sha256=e7787fd29e32804169327c132956bba7b051a50006937f91cdd74c96045f8b52\n",
            "  Stored in directory: /root/.cache/pip/wheels/26/1e/e8/4fa236ec931b1a0cdd61578e20d4934d7bf188858723b84698\n",
            "  Building wheel for contextvars (setup.py) ... \u001b[?25l\u001b[?25hdone\n",
            "  Created wheel for contextvars: filename=contextvars-2.4-cp36-none-any.whl size=7666 sha256=e1e47773dd6f56e26fb15b8ef8fcf49791ad2e26314b6b448cb2408ab116935b\n",
            "  Stored in directory: /root/.cache/pip/wheels/a5/7d/68/1ebae2668bda2228686e3c1cf16f2c2384cea6e9334ad5f6de\n",
            "Successfully built locket contextvars\n",
            "\u001b[31mERROR: distributed 2.30.1 has requirement cloudpickle>=1.5.0, but you'll have cloudpickle 1.3.0 which is incompatible.\u001b[0m\n",
            "Installing collected packages: fsspec, locket, partd, immutables, contextvars, distributed\n",
            "  Found existing installation: distributed 1.25.3\n",
            "    Uninstalling distributed-1.25.3:\n",
            "      Successfully uninstalled distributed-1.25.3\n",
            "Successfully installed contextvars-2.4 distributed-2.30.1 fsspec-0.8.4 immutables-0.14 locket-0.2.0 partd-1.1.0\n"
          ],
          "name": "stdout"
        }
      ]
    },
    {
      "cell_type": "code",
      "metadata": {
        "id": "8MiDmJY8gI0Y"
      },
      "source": [
        "import json\n",
        "import pandas as pd\n",
        "#import dask as dd\n",
        "#import dask.bag as db"
      ],
      "execution_count": null,
      "outputs": []
    },
    {
      "cell_type": "code",
      "metadata": {
        "id": "y_iVHX8pf1Tj",
        "colab": {
          "base_uri": "https://localhost:8080/"
        },
        "outputId": "a6cf85d9-75ac-4228-a7e8-3d82714edef0"
      },
      "source": [
        "file = db.read_text(\"/content/arxiv-metadata-oai-snapshot.json\").map(json.loads)\n",
        "file"
      ],
      "execution_count": null,
      "outputs": [
        {
          "output_type": "execute_result",
          "data": {
            "text/plain": [
              "dask.bag<loads, npartitions=1>"
            ]
          },
          "metadata": {
            "tags": []
          },
          "execution_count": 8
        }
      ]
    },
    {
      "cell_type": "code",
      "metadata": {
        "id": "Ue8BsUT6gHbS"
      },
      "source": [
        "def flatten(record):\n",
        "    return {\n",
        "        'id':record['id'],\n",
        "        'title':record['title'],\n",
        "        'categories':record['categories'],\n",
        "        'abstract':record['abstract']\n",
        "    }"
      ],
      "execution_count": null,
      "outputs": []
    },
    {
      "cell_type": "code",
      "metadata": {
        "id": "kWHo3i-bgf0u"
      },
      "source": [
        "df = file.map(flatten).to_dataframe()"
      ],
      "execution_count": null,
      "outputs": []
    },
    {
      "cell_type": "code",
      "metadata": {
        "id": "Q1HLtVNKggM2"
      },
      "source": [
        "df = df.compute()"
      ],
      "execution_count": null,
      "outputs": []
    },
    {
      "cell_type": "code",
      "metadata": {
        "id": "EOlQvCKYgxLC",
        "colab": {
          "base_uri": "https://localhost:8080/",
          "height": 34
        },
        "outputId": "894375ca-f438-4b2a-fcb5-5757051314c7"
      },
      "source": [
        "df.to_csv(\"arxiv_classification_dataset.csv\",single_file = True)"
      ],
      "execution_count": null,
      "outputs": [
        {
          "output_type": "execute_result",
          "data": {
            "text/plain": [
              "['/content/arxiv_classification_dataset.csv']"
            ]
          },
          "metadata": {
            "tags": []
          },
          "execution_count": 16
        }
      ]
    },
    {
      "cell_type": "code",
      "metadata": {
        "id": "3TsOyUJhhFlz",
        "colab": {
          "base_uri": "https://localhost:8080/"
        },
        "outputId": "3c139700-636a-4c7c-fe1c-6d69d5be106f"
      },
      "source": [
        "type(df)"
      ],
      "execution_count": null,
      "outputs": [
        {
          "output_type": "execute_result",
          "data": {
            "text/plain": [
              "pandas.core.frame.DataFrame"
            ]
          },
          "metadata": {
            "tags": []
          },
          "execution_count": 20
        }
      ]
    },
    {
      "cell_type": "code",
      "metadata": {
        "colab": {
          "base_uri": "https://localhost:8080/"
        },
        "id": "iN-tcx0v8mux",
        "outputId": "12521d24-acf1-45b0-f821-b4c712690100"
      },
      "source": [
        "df = pd.read_csv(\"/content/drive/MyDrive/arxiv_classification_dataset.csv\")"
      ],
      "execution_count": null,
      "outputs": [
        {
          "output_type": "stream",
          "text": [
            "/usr/local/lib/python3.6/dist-packages/IPython/core/interactiveshell.py:2718: DtypeWarning: Columns (1) have mixed types.Specify dtype option on import or set low_memory=False.\n",
            "  interactivity=interactivity, compiler=compiler, result=result)\n"
          ],
          "name": "stderr"
        }
      ]
    },
    {
      "cell_type": "code",
      "metadata": {
        "id": "Rijuny7Ticb3"
      },
      "source": [
        "def get_categories_count(column):\n",
        "    \n",
        "    categories = column.values\n",
        "    categories_count = {}\n",
        "    distinct_categories_count = {}\n",
        "    categories_count = {label:categories_count.get(label,0)+1 for label in categories}\n",
        "    for label in categories:\n",
        "        categories_count[label] = categories_count.get(label,0) + 1\n",
        "        for distinct_label in label.split():\n",
        "            distinct_categories_count[distinct_label] = distinct_categories_count.get(distinct_label,0) + 1\n",
        "    return categories_count,distinct_categories_count"
      ],
      "execution_count": null,
      "outputs": []
    },
    {
      "cell_type": "code",
      "metadata": {
        "id": "Pc5taelBvm_c"
      },
      "source": [
        "def proportionate_stratified_random_sampling(df,type,nrows = None,sampling_percentage = None):\n",
        "    sample_df = pd.DataFrame(columns=df.columns)\n",
        "    sample_list = []\n",
        "    print(sample_df.columns)\n",
        "    if type == 'multilabel':\n",
        "        sampled_indices = set()\n",
        "        categories_count, distinct_categories_count = get_categories_count(df['categories'])\n",
        "        print(distinct_categories_count)\n",
        "        if sampling_percentage == None:\n",
        "            sampling_percentage = (nrows * 100 / len(df))/100\n",
        "        for category in distinct_categories_count.keys():\n",
        "            temp_df = df[(df['categories'].str.contains(category)) & (~(df.index.isin(sampled_indices)))]\n",
        "            temp_df = temp_df.sample(frac = sampling_percentage)\n",
        "            if len(temp_df)!=0:\n",
        "                sample_list.append(temp_df)\n",
        "                sampled_indices.union( set(sample_df.index.values.tolist()))\n",
        "\n",
        "    return pd.concat(sample_list)\n"
      ],
      "execution_count": null,
      "outputs": []
    },
    {
      "cell_type": "code",
      "metadata": {
        "id": "uqmsYLeRvpPB"
      },
      "source": [
        "df['categories'] = df['categories'].apply(lambda x:x.split())\n",
        "df['categories'] = df['categories'].apply(lambda x:list(set([item.split('-',1)[0] for item in x ])))\n",
        "df['categories'] = df['categories'].apply(lambda x:list(set([item.split('.',1)[0] for item in x ])))\n",
        "df['categories'] = df['categories'].apply(lambda x:' '.join(x))"
      ],
      "execution_count": null,
      "outputs": []
    },
    {
      "cell_type": "code",
      "metadata": {
        "id": "0f2KNQn9vsBS"
      },
      "source": [
        "categories_count, distinct_categories_count = get_categories_count(df['categories'])"
      ],
      "execution_count": null,
      "outputs": []
    },
    {
      "cell_type": "code",
      "metadata": {
        "id": "tB0drxY7sQyk",
        "colab": {
          "base_uri": "https://localhost:8080/"
        },
        "outputId": "3947c452-7822-4587-e520-46ec34a7bef7"
      },
      "source": [
        "top_11_categories_excluded = [item[0] for item in sorted(distinct_categories_count.items(), key =lambda kv:(kv[1], kv[0]))][:20]\n",
        "top_11_categories_excluded"
      ],
      "execution_count": null,
      "outputs": [
        {
          "output_type": "execute_result",
          "data": {
            "text/plain": [
              "['bayes',\n",
              " 'ao',\n",
              " 'plasm',\n",
              " 'acc',\n",
              " 'atom',\n",
              " 'supr',\n",
              " 'comp',\n",
              " 'chem',\n",
              " 'mtrl',\n",
              " 'funct',\n",
              " 'adap',\n",
              " 'patt',\n",
              " 'dg',\n",
              " 'cmp',\n",
              " 'solv',\n",
              " 'alg',\n",
              " 'chao',\n",
              " 'econ',\n",
              " 'eess',\n",
              " 'nlin']"
            ]
          },
          "metadata": {
            "tags": []
          },
          "execution_count": 8
        }
      ]
    },
    {
      "cell_type": "code",
      "metadata": {
        "id": "mkYh9FcrvtHi"
      },
      "source": [
        "df['categories'] = df['categories'].apply(lambda x:x.split())\n",
        "subdf = df[~pd.DataFrame(df.categories.tolist()).isin(top_11_categories_excluded).any(1)]"
      ],
      "execution_count": null,
      "outputs": []
    },
    {
      "cell_type": "code",
      "metadata": {
        "id": "KdX6nq7_1hxY",
        "colab": {
          "base_uri": "https://localhost:8080/",
          "height": 419
        },
        "outputId": "e7ed0291-b1f8-4157-90ef-eed99bc69b36"
      },
      "source": [
        "subdf"
      ],
      "execution_count": null,
      "outputs": [
        {
          "output_type": "execute_result",
          "data": {
            "text/html": [
              "<div>\n",
              "<style scoped>\n",
              "    .dataframe tbody tr th:only-of-type {\n",
              "        vertical-align: middle;\n",
              "    }\n",
              "\n",
              "    .dataframe tbody tr th {\n",
              "        vertical-align: top;\n",
              "    }\n",
              "\n",
              "    .dataframe thead th {\n",
              "        text-align: right;\n",
              "    }\n",
              "</style>\n",
              "<table border=\"1\" class=\"dataframe\">\n",
              "  <thead>\n",
              "    <tr style=\"text-align: right;\">\n",
              "      <th></th>\n",
              "      <th>Unnamed: 0</th>\n",
              "      <th>id</th>\n",
              "      <th>title</th>\n",
              "      <th>categories</th>\n",
              "      <th>abstract</th>\n",
              "    </tr>\n",
              "  </thead>\n",
              "  <tbody>\n",
              "    <tr>\n",
              "      <th>0</th>\n",
              "      <td>0</td>\n",
              "      <td>704</td>\n",
              "      <td>Calculation of prompt diphoton production cros...</td>\n",
              "      <td>[hep]</td>\n",
              "      <td>A fully differential calculation in perturba...</td>\n",
              "    </tr>\n",
              "    <tr>\n",
              "      <th>1</th>\n",
              "      <td>1</td>\n",
              "      <td>704</td>\n",
              "      <td>Sparsity-certifying Graph Decompositions</td>\n",
              "      <td>[math, cs]</td>\n",
              "      <td>We describe a new algorithm, the $(k,\\ell)$-...</td>\n",
              "    </tr>\n",
              "    <tr>\n",
              "      <th>2</th>\n",
              "      <td>2</td>\n",
              "      <td>704</td>\n",
              "      <td>The evolution of the Earth-Moon system based o...</td>\n",
              "      <td>[physics]</td>\n",
              "      <td>The evolution of Earth-Moon system is descri...</td>\n",
              "    </tr>\n",
              "    <tr>\n",
              "      <th>3</th>\n",
              "      <td>3</td>\n",
              "      <td>704</td>\n",
              "      <td>A determinant of Stirling cycle numbers counts...</td>\n",
              "      <td>[math]</td>\n",
              "      <td>We show that a determinant of Stirling cycle...</td>\n",
              "    </tr>\n",
              "    <tr>\n",
              "      <th>4</th>\n",
              "      <td>4</td>\n",
              "      <td>704</td>\n",
              "      <td>From dyadic $\\Lambda_{\\alpha}$ to $\\Lambda_{\\a...</td>\n",
              "      <td>[math]</td>\n",
              "      <td>In this paper we show how to compute the $\\L...</td>\n",
              "    </tr>\n",
              "    <tr>\n",
              "      <th>...</th>\n",
              "      <td>...</td>\n",
              "      <td>...</td>\n",
              "      <td>...</td>\n",
              "      <td>...</td>\n",
              "      <td>...</td>\n",
              "    </tr>\n",
              "    <tr>\n",
              "      <th>1770119</th>\n",
              "      <td>1770119</td>\n",
              "      <td>quant-ph/9912118</td>\n",
              "      <td>A Fast and Compact Quantum Random Number Gener...</td>\n",
              "      <td>[quant]</td>\n",
              "      <td>We present the realization of a physical qua...</td>\n",
              "    </tr>\n",
              "    <tr>\n",
              "      <th>1770120</th>\n",
              "      <td>1770120</td>\n",
              "      <td>quant-ph/9912119</td>\n",
              "      <td>Nuclear Teleportation</td>\n",
              "      <td>[quant]</td>\n",
              "      <td>Until recently, only science-fiction authors...</td>\n",
              "    </tr>\n",
              "    <tr>\n",
              "      <th>1770122</th>\n",
              "      <td>1770122</td>\n",
              "      <td>quant-ph/9912121</td>\n",
              "      <td>Simple pulse sequence for quantum logic operat...</td>\n",
              "      <td>[quant]</td>\n",
              "      <td>This paper has been withdrawn by the authors...</td>\n",
              "    </tr>\n",
              "    <tr>\n",
              "      <th>1770123</th>\n",
              "      <td>1770123</td>\n",
              "      <td>quant-ph/9912122</td>\n",
              "      <td>Optimal signal ensembles</td>\n",
              "      <td>[quant]</td>\n",
              "      <td>Classical messages can be sent via a noisy q...</td>\n",
              "    </tr>\n",
              "    <tr>\n",
              "      <th>1770124</th>\n",
              "      <td>1770124</td>\n",
              "      <td>quant-ph/9912123</td>\n",
              "      <td>Multilevel Quantum Particle as a Few Virtual Q...</td>\n",
              "      <td>[quant]</td>\n",
              "      <td>A conception of virtual quantum information ...</td>\n",
              "    </tr>\n",
              "  </tbody>\n",
              "</table>\n",
              "<p>1702981 rows × 5 columns</p>\n",
              "</div>"
            ],
            "text/plain": [
              "         Unnamed: 0  ...                                           abstract\n",
              "0                 0  ...    A fully differential calculation in perturba...\n",
              "1                 1  ...    We describe a new algorithm, the $(k,\\ell)$-...\n",
              "2                 2  ...    The evolution of Earth-Moon system is descri...\n",
              "3                 3  ...    We show that a determinant of Stirling cycle...\n",
              "4                 4  ...    In this paper we show how to compute the $\\L...\n",
              "...             ...  ...                                                ...\n",
              "1770119     1770119  ...    We present the realization of a physical qua...\n",
              "1770120     1770120  ...    Until recently, only science-fiction authors...\n",
              "1770122     1770122  ...    This paper has been withdrawn by the authors...\n",
              "1770123     1770123  ...    Classical messages can be sent via a noisy q...\n",
              "1770124     1770124  ...    A conception of virtual quantum information ...\n",
              "\n",
              "[1702981 rows x 5 columns]"
            ]
          },
          "metadata": {
            "tags": []
          },
          "execution_count": 12
        }
      ]
    },
    {
      "cell_type": "code",
      "metadata": {
        "id": "AiE8Iaajz1jI",
        "colab": {
          "base_uri": "https://localhost:8080/"
        },
        "outputId": "ff1c79e5-5a41-4010-bb24-efc9c9612ad6"
      },
      "source": [
        "subdf['categories'] = subdf['categories'].apply(lambda x:' '.join(x))\n",
        "categories_count, distinct_categories_count = get_categories_count(subdf['categories'])"
      ],
      "execution_count": null,
      "outputs": [
        {
          "output_type": "stream",
          "text": [
            "/usr/local/lib/python3.6/dist-packages/ipykernel_launcher.py:1: SettingWithCopyWarning: \n",
            "A value is trying to be set on a copy of a slice from a DataFrame.\n",
            "Try using .loc[row_indexer,col_indexer] = value instead\n",
            "\n",
            "See the caveats in the documentation: https://pandas.pydata.org/pandas-docs/stable/user_guide/indexing.html#returning-a-view-versus-a-copy\n",
            "  \"\"\"Entry point for launching an IPython kernel.\n"
          ],
          "name": "stderr"
        }
      ]
    },
    {
      "cell_type": "code",
      "metadata": {
        "colab": {
          "base_uri": "https://localhost:8080/"
        },
        "id": "wVeQYb35BAIw",
        "outputId": "d00940e2-d0cd-4624-a24a-bdbe6178a982"
      },
      "source": [
        "distinct_categories_count"
      ],
      "execution_count": null,
      "outputs": [
        {
          "output_type": "execute_result",
          "data": {
            "text/plain": [
              "{'astro': 276913,\n",
              " 'cond': 287416,\n",
              " 'cs': 279074,\n",
              " 'gr': 83567,\n",
              " 'hep': 296710,\n",
              " 'math': 457166,\n",
              " 'nucl': 59723,\n",
              " 'physics': 168028,\n",
              " 'q': 41693,\n",
              " 'quant': 104875,\n",
              " 'stat': 75418}"
            ]
          },
          "metadata": {
            "tags": []
          },
          "execution_count": 14
        }
      ]
    },
    {
      "cell_type": "code",
      "metadata": {
        "id": "VvL8WXFAvu5z",
        "colab": {
          "base_uri": "https://localhost:8080/"
        },
        "outputId": "882a8b90-a28f-4da0-eca0-e1a9586f65c8"
      },
      "source": [
        "sample_df = proportionate_stratified_random_sampling(subdf,'multilabel',nrows=110000)"
      ],
      "execution_count": null,
      "outputs": [
        {
          "output_type": "stream",
          "text": [
            "Index(['Unnamed: 0', 'id', 'title', 'categories', 'abstract'], dtype='object')\n",
            "{'hep': 296710, 'math': 457166, 'cs': 279074, 'physics': 168028, 'cond': 287416, 'gr': 83567, 'astro': 276913, 'quant': 104875, 'q': 41693, 'nucl': 59723, 'stat': 75418}\n"
          ],
          "name": "stdout"
        }
      ]
    },
    {
      "cell_type": "code",
      "metadata": {
        "colab": {
          "base_uri": "https://localhost:8080/",
          "height": 419
        },
        "id": "BiTLk2K7A91i",
        "outputId": "dbcda530-ca64-4172-c997-ccc60d96b6e3"
      },
      "source": [
        "sample_df"
      ],
      "execution_count": null,
      "outputs": [
        {
          "output_type": "execute_result",
          "data": {
            "text/html": [
              "<div>\n",
              "<style scoped>\n",
              "    .dataframe tbody tr th:only-of-type {\n",
              "        vertical-align: middle;\n",
              "    }\n",
              "\n",
              "    .dataframe tbody tr th {\n",
              "        vertical-align: top;\n",
              "    }\n",
              "\n",
              "    .dataframe thead th {\n",
              "        text-align: right;\n",
              "    }\n",
              "</style>\n",
              "<table border=\"1\" class=\"dataframe\">\n",
              "  <thead>\n",
              "    <tr style=\"text-align: right;\">\n",
              "      <th></th>\n",
              "      <th>index</th>\n",
              "      <th>Unnamed: 0</th>\n",
              "      <th>id</th>\n",
              "      <th>title</th>\n",
              "      <th>categories</th>\n",
              "      <th>abstract</th>\n",
              "    </tr>\n",
              "  </thead>\n",
              "  <tbody>\n",
              "    <tr>\n",
              "      <th>0</th>\n",
              "      <td>1558996</td>\n",
              "      <td>1558996</td>\n",
              "      <td>hep-ph/0005099</td>\n",
              "      <td>Plasma Energy Loss into Kaluza-Klein Modes</td>\n",
              "      <td>hep astro</td>\n",
              "      <td>Recently, Barger {\\em et al.} computed energ...</td>\n",
              "    </tr>\n",
              "    <tr>\n",
              "      <th>1</th>\n",
              "      <td>878882</td>\n",
              "      <td>878882</td>\n",
              "      <td>1708.04</td>\n",
              "      <td>Gravitational closure of weakly birefringent e...</td>\n",
              "      <td>gr hep</td>\n",
              "      <td>We derive the gravitational dynamics of the ...</td>\n",
              "    </tr>\n",
              "    <tr>\n",
              "      <th>2</th>\n",
              "      <td>1725923</td>\n",
              "      <td>1725923</td>\n",
              "      <td>nucl-th/9510062</td>\n",
              "      <td>Parity Violation and the Nucleon-Nucleon System</td>\n",
              "      <td>nucl hep</td>\n",
              "      <td>The status of the field of nuclear parity vi...</td>\n",
              "    </tr>\n",
              "    <tr>\n",
              "      <th>3</th>\n",
              "      <td>386989</td>\n",
              "      <td>386989</td>\n",
              "      <td>1211.47</td>\n",
              "      <td>Revisiting the gravitino dark matter and baryo...</td>\n",
              "      <td>hep astro</td>\n",
              "      <td>We reinvestigate the scenario that the amoun...</td>\n",
              "    </tr>\n",
              "    <tr>\n",
              "      <th>4</th>\n",
              "      <td>1656263</td>\n",
              "      <td>1656263</td>\n",
              "      <td>math-ph/0411072</td>\n",
              "      <td>Algebraic approach to Quantum Field Theory</td>\n",
              "      <td>gr math hep</td>\n",
              "      <td>We provide a short introduction to the main ...</td>\n",
              "    </tr>\n",
              "    <tr>\n",
              "      <th>...</th>\n",
              "      <td>...</td>\n",
              "      <td>...</td>\n",
              "      <td>...</td>\n",
              "      <td>...</td>\n",
              "      <td>...</td>\n",
              "      <td>...</td>\n",
              "    </tr>\n",
              "    <tr>\n",
              "      <th>150612</th>\n",
              "      <td>341747</td>\n",
              "      <td>341747</td>\n",
              "      <td>1205.27</td>\n",
              "      <td>A Multivariate Graphical Stochastic Volatility...</td>\n",
              "      <td>stat</td>\n",
              "      <td>The Gaussian Graphical Model (GGM) is a popu...</td>\n",
              "    </tr>\n",
              "    <tr>\n",
              "      <th>150613</th>\n",
              "      <td>318069</td>\n",
              "      <td>318069</td>\n",
              "      <td>1201.61</td>\n",
              "      <td>A robust and sparse K-means clustering algorithm</td>\n",
              "      <td>stat</td>\n",
              "      <td>In many situations where the interest lies i...</td>\n",
              "    </tr>\n",
              "    <tr>\n",
              "      <th>150614</th>\n",
              "      <td>1000752</td>\n",
              "      <td>1000752</td>\n",
              "      <td>1807.04</td>\n",
              "      <td>Near-infrared Mira Period-Luminosity Relations...</td>\n",
              "      <td>stat astro</td>\n",
              "      <td>We analyze sparsely-sampled near-infrared (J...</td>\n",
              "    </tr>\n",
              "    <tr>\n",
              "      <th>150615</th>\n",
              "      <td>1201555</td>\n",
              "      <td>1201555</td>\n",
              "      <td>1911.03</td>\n",
              "      <td>Improved Visual Localization via Graph Smoothing</td>\n",
              "      <td>stat cs</td>\n",
              "      <td>Vision based localization is the problem of ...</td>\n",
              "    </tr>\n",
              "    <tr>\n",
              "      <th>150616</th>\n",
              "      <td>567935</td>\n",
              "      <td>567935</td>\n",
              "      <td>1410.68</td>\n",
              "      <td>Scalable Nonparametric Bayesian Inference on P...</td>\n",
              "      <td>stat</td>\n",
              "      <td>In this paper we propose the first non-param...</td>\n",
              "    </tr>\n",
              "  </tbody>\n",
              "</table>\n",
              "<p>150617 rows × 6 columns</p>\n",
              "</div>"
            ],
            "text/plain": [
              "          index  ...                                           abstract\n",
              "0       1558996  ...    Recently, Barger {\\em et al.} computed energ...\n",
              "1        878882  ...    We derive the gravitational dynamics of the ...\n",
              "2       1725923  ...    The status of the field of nuclear parity vi...\n",
              "3        386989  ...    We reinvestigate the scenario that the amoun...\n",
              "4       1656263  ...    We provide a short introduction to the main ...\n",
              "...         ...  ...                                                ...\n",
              "150612   341747  ...    The Gaussian Graphical Model (GGM) is a popu...\n",
              "150613   318069  ...    In many situations where the interest lies i...\n",
              "150614  1000752  ...    We analyze sparsely-sampled near-infrared (J...\n",
              "150615  1201555  ...    Vision based localization is the problem of ...\n",
              "150616   567935  ...    In this paper we propose the first non-param...\n",
              "\n",
              "[150617 rows x 6 columns]"
            ]
          },
          "metadata": {
            "tags": []
          },
          "execution_count": 24
        }
      ]
    },
    {
      "cell_type": "code",
      "metadata": {
        "id": "S7Gj6o2iBP7y"
      },
      "source": [
        "sample_df = sample_df.sample(150000)"
      ],
      "execution_count": null,
      "outputs": []
    },
    {
      "cell_type": "code",
      "metadata": {
        "colab": {
          "base_uri": "https://localhost:8080/"
        },
        "id": "sJ8EGpJU-ja_",
        "outputId": "0d43a7fe-2f67-4274-a8e2-a20b4f210401"
      },
      "source": [
        "categories_count, distinct_categories_count = get_categories_count(subdf['categories'])\r\n",
        "distinct_categories_count"
      ],
      "execution_count": null,
      "outputs": [
        {
          "output_type": "execute_result",
          "data": {
            "text/plain": [
              "{'astro': 276913,\n",
              " 'cond': 287416,\n",
              " 'cs': 279074,\n",
              " 'gr': 83567,\n",
              " 'hep': 296710,\n",
              " 'math': 457166,\n",
              " 'nucl': 59723,\n",
              " 'physics': 168028,\n",
              " 'q': 41693,\n",
              " 'quant': 104875,\n",
              " 'stat': 75418}"
            ]
          },
          "metadata": {
            "tags": []
          },
          "execution_count": 19
        }
      ]
    },
    {
      "cell_type": "code",
      "metadata": {
        "id": "jxLDoRO8vxci"
      },
      "source": [
        "#sample_df.drop_duplicates(subset=['abstract'],inplace=True)\n",
        "sample_df.reset_index(inplace=True)\n",
        "sample_df.to_csv(\"/content/drive/MyDrive/arxiv_sample_final4.csv\",index=False)"
      ],
      "execution_count": null,
      "outputs": []
    },
    {
      "cell_type": "markdown",
      "metadata": {
        "id": "mTvemiGcD9Ce"
      },
      "source": [
        "Index(['id', 'title', 'categories', 'abstract'], dtype='object')\n",
        "{'hep': 297543, 'math': 458395, 'cs': 301330, 'physics': 162153, 'cond': 282717, 'gr': 84116, 'astro': 278635, 'nucl': 60040, 'quant': 105561, 'stat': 76276, 'eess': 26807}\n"
      ]
    },
    {
      "cell_type": "code",
      "metadata": {
        "id": "At9Laim181Ky",
        "colab": {
          "base_uri": "https://localhost:8080/",
          "height": 419
        },
        "outputId": "76d36e84-8226-4408-8da4-4171f03530c8"
      },
      "source": [
        "sample_df"
      ],
      "execution_count": null,
      "outputs": [
        {
          "output_type": "execute_result",
          "data": {
            "text/html": [
              "<div>\n",
              "<style scoped>\n",
              "    .dataframe tbody tr th:only-of-type {\n",
              "        vertical-align: middle;\n",
              "    }\n",
              "\n",
              "    .dataframe tbody tr th {\n",
              "        vertical-align: top;\n",
              "    }\n",
              "\n",
              "    .dataframe thead th {\n",
              "        text-align: right;\n",
              "    }\n",
              "</style>\n",
              "<table border=\"1\" class=\"dataframe\">\n",
              "  <thead>\n",
              "    <tr style=\"text-align: right;\">\n",
              "      <th></th>\n",
              "      <th>level_0</th>\n",
              "      <th>index</th>\n",
              "      <th>Unnamed: 0</th>\n",
              "      <th>id</th>\n",
              "      <th>title</th>\n",
              "      <th>categories</th>\n",
              "      <th>abstract</th>\n",
              "    </tr>\n",
              "  </thead>\n",
              "  <tbody>\n",
              "    <tr>\n",
              "      <th>0</th>\n",
              "      <td>98662</td>\n",
              "      <td>1438735</td>\n",
              "      <td>1438735</td>\n",
              "      <td>cond-mat/0002333</td>\n",
              "      <td>Inhomogeneous order-parameter suppression in d...</td>\n",
              "      <td>cond</td>\n",
              "      <td>We report on a numerical study of disorder e...</td>\n",
              "    </tr>\n",
              "    <tr>\n",
              "      <th>1</th>\n",
              "      <td>115006</td>\n",
              "      <td>1384384</td>\n",
              "      <td>1384384</td>\n",
              "      <td>astro-ph/0310023</td>\n",
              "      <td>Doppler-like effect and doubtful expansion of ...</td>\n",
              "      <td>astro</td>\n",
              "      <td>The distance contraction, as observed in ele...</td>\n",
              "    </tr>\n",
              "    <tr>\n",
              "      <th>2</th>\n",
              "      <td>105193</td>\n",
              "      <td>473574</td>\n",
              "      <td>473574</td>\n",
              "      <td>1310.86</td>\n",
              "      <td>Probing a cosmological model with a $\\Lambda =...</td>\n",
              "      <td>gr astro</td>\n",
              "      <td>In this work we study the evolution of matte...</td>\n",
              "    </tr>\n",
              "    <tr>\n",
              "      <th>3</th>\n",
              "      <td>149192</td>\n",
              "      <td>415836</td>\n",
              "      <td>415836</td>\n",
              "      <td>1303.42</td>\n",
              "      <td>Additive inverse regression models with convol...</td>\n",
              "      <td>stat math</td>\n",
              "      <td>In a recent paper Birke and Bissantz (2008) ...</td>\n",
              "    </tr>\n",
              "    <tr>\n",
              "      <th>4</th>\n",
              "      <td>145071</td>\n",
              "      <td>707777</td>\n",
              "      <td>707777</td>\n",
              "      <td>1602.07</td>\n",
              "      <td>Effective potential from zero-momentum potential</td>\n",
              "      <td>nucl physics</td>\n",
              "      <td>We obtain the centre-of-mass frame effective...</td>\n",
              "    </tr>\n",
              "    <tr>\n",
              "      <th>...</th>\n",
              "      <td>...</td>\n",
              "      <td>...</td>\n",
              "      <td>...</td>\n",
              "      <td>...</td>\n",
              "      <td>...</td>\n",
              "      <td>...</td>\n",
              "      <td>...</td>\n",
              "    </tr>\n",
              "    <tr>\n",
              "      <th>149995</th>\n",
              "      <td>93319</td>\n",
              "      <td>686594</td>\n",
              "      <td>686594</td>\n",
              "      <td>1512.04</td>\n",
              "      <td>From Chemistry to Functionality: Trends for th...</td>\n",
              "      <td>cond</td>\n",
              "      <td>We present a systematic ab-initio study of t...</td>\n",
              "    </tr>\n",
              "    <tr>\n",
              "      <th>149996</th>\n",
              "      <td>72918</td>\n",
              "      <td>848171</td>\n",
              "      <td>848171</td>\n",
              "      <td>1705.05</td>\n",
              "      <td>Forecasting using incomplete models</td>\n",
              "      <td>cs</td>\n",
              "      <td>We consider the task of forecasting an infin...</td>\n",
              "    </tr>\n",
              "    <tr>\n",
              "      <th>149997</th>\n",
              "      <td>30314</td>\n",
              "      <td>182107</td>\n",
              "      <td>182107</td>\n",
              "      <td>1004.02</td>\n",
              "      <td>Any discrete almost periodic set of finite typ...</td>\n",
              "      <td>math</td>\n",
              "      <td>A discrete set in the Euclidian space is alm...</td>\n",
              "    </tr>\n",
              "    <tr>\n",
              "      <th>149998</th>\n",
              "      <td>108471</td>\n",
              "      <td>107503</td>\n",
              "      <td>107503</td>\n",
              "      <td>902.129</td>\n",
              "      <td>Discontinuous Galerkin method for computing gr...</td>\n",
              "      <td>gr</td>\n",
              "      <td>Gravitational wave emission from extreme mas...</td>\n",
              "    </tr>\n",
              "    <tr>\n",
              "      <th>149999</th>\n",
              "      <td>76307</td>\n",
              "      <td>33930</td>\n",
              "      <td>33930</td>\n",
              "      <td>711.104</td>\n",
              "      <td>Am\\'elioration des Performances des Syst\\`emes...</td>\n",
              "      <td>cs</td>\n",
              "      <td>In this article, we present an approach for ...</td>\n",
              "    </tr>\n",
              "  </tbody>\n",
              "</table>\n",
              "<p>150000 rows × 7 columns</p>\n",
              "</div>"
            ],
            "text/plain": [
              "        level_0  ...                                           abstract\n",
              "0         98662  ...    We report on a numerical study of disorder e...\n",
              "1        115006  ...    The distance contraction, as observed in ele...\n",
              "2        105193  ...    In this work we study the evolution of matte...\n",
              "3        149192  ...    In a recent paper Birke and Bissantz (2008) ...\n",
              "4        145071  ...    We obtain the centre-of-mass frame effective...\n",
              "...         ...  ...                                                ...\n",
              "149995    93319  ...    We present a systematic ab-initio study of t...\n",
              "149996    72918  ...    We consider the task of forecasting an infin...\n",
              "149997    30314  ...    A discrete set in the Euclidian space is alm...\n",
              "149998   108471  ...    Gravitational wave emission from extreme mas...\n",
              "149999    76307  ...    In this article, we present an approach for ...\n",
              "\n",
              "[150000 rows x 7 columns]"
            ]
          },
          "metadata": {
            "tags": []
          },
          "execution_count": 27
        }
      ]
    },
    {
      "cell_type": "code",
      "metadata": {
        "id": "y_VENCOwC5EU"
      },
      "source": [
        ""
      ],
      "execution_count": null,
      "outputs": []
    }
  ]
}